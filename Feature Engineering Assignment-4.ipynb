{
 "cells": [
  {
   "cell_type": "markdown",
   "id": "44871215-865a-43a5-a111-6b312d0d1012",
   "metadata": {},
   "source": [
    "# Q1. What is the difference between Ordinal Encoding and Label Encoding? Provide an example of when you might choose one over the other."
   ]
  },
  {
   "cell_type": "code",
   "execution_count": null,
   "id": "28f3ccc8-798f-4a15-a02f-56265201ead5",
   "metadata": {},
   "outputs": [],
   "source": [
    "Ordinal Encoding and Label Encoding are two techniques used to convert categorical data into numerical data for\n",
    "machine learning models. While they both deal with categorical variables, the key difference lies in how they\n",
    "handle the relationship between categories.\n",
    "\n",
    "1.Label Encoding:\n",
    "Definition: Label Encoding assigns a unique integer to each category in the feature, regardless of any inherent\n",
    "order among the categories.\n",
    "\n",
    "Use Case: It is used when the categorical variables are nominal, meaning that they do not have an inherent order or\n",
    "ranking. For example, converting ['Cat', 'Dog', 'Fish'] into [0, 1, 2].\n",
    "\n",
    "Example: If you have a categorical feature like \"Color\" with categories such as ['Red', 'Blue', 'Green'], Label\n",
    "Encoding would assign an arbitrary integer to each, like [0, 1, 2], without implying any order.\n",
    "\n",
    "\n",
    "2.Ordinal Encoding:\n",
    "Definition: Ordinal Encoding also converts categories to integers, but it assumes that the categories have a\n",
    "natural, inherent order. The integers reflect this order.\n",
    "\n",
    "Use Case: It is used when the categorical variables are ordinal, meaning that the categories have a meaningful\n",
    "order. For example, converting ['Low', 'Medium', 'High'] into [0, 1, 2] where the order is important.\n",
    "\n",
    "Example: If you have a feature like \"Education Level\" with categories such as ['High School', 'Bachelors',\n",
    "'Masters'], Ordinal Encoding would map them to [0, 1, 2], preserving the rank order.\n",
    "\n",
    "\n",
    "-->Choosing Between Label Encoding and Ordinal Encoding:\n",
    "1.Label Encoding: Choose this when the categories have no specific order, and the numbers are just identifiers\n",
    "(e.g., types of fruits).\n",
    "\n",
    "2.Ordinal Encoding: Choose this when the categories have a rank or order, and this order should be preserved in the\n",
    "numerical encoding (e.g., education levels, product ratings).\n",
    "\n",
    "Example Scenario:\n",
    "1.Label Encoding: For a feature like \"Country,\" where you have ['USA', 'India', 'Germany'], there is no natural\n",
    "order among the countries, so Label Encoding is appropriate.\n",
    "\n",
    "2.Ordinal Encoding: For a feature like \"Size\" with categories ['Small', 'Medium', 'Large'], there is a clear order,\n",
    "so Ordinal Encoding should be used to preserve that order in the encoded values."
   ]
  },
  {
   "cell_type": "markdown",
   "id": "7e12c953-ca94-4611-8ab0-9e8683bbe513",
   "metadata": {},
   "source": [
    "# Q2. Explain how Target Guided Ordinal Encoding works and provide an example of when you might use it in a machine learning project."
   ]
  },
  {
   "cell_type": "code",
   "execution_count": null,
   "id": "77e018e2-8dce-440a-8076-3f69160670db",
   "metadata": {},
   "outputs": [],
   "source": [
    "Target Guided Ordinal Encoding:\n",
    "Target Guided Ordinal Encoding is a technique used to encode categorical variables into numerical values by\n",
    "considering the relationship between the categories and the target variable. This encoding is particularly useful\n",
    "when dealing with ordinal categories or categorical variables that have a clear correlation with the target\n",
    "variable.\n",
    "\n",
    "The steps involved in Target Guided Ordinal Encoding are as follows:\n",
    "1.Grouping by Target Mean:\n",
    "Group the categorical variable by its categories and calculate the mean of the target variable for each category.\n",
    "\n",
    "2.Ordering Categories:\n",
    "Rank the categories based on the computed target means. Categories are ordered in increasing or decreasing order\n",
    "based on the target mean values.\n",
    "\n",
    "3.Assigning Ordinal Values:\n",
    "Assign ordinal numbers (1, 2, 3, etc.) to each category based on their rank. Categories with higher means will\n",
    "typically receive higher ordinal values.\n",
    "\n",
    "\n",
    "Example Use Case\n",
    "Imagine you are working on a project to predict customer churn for a telecommunications company (similar to your\n",
    "ongoing project). One of the categorical features in the dataset is contract type (e.g., \"Month-to-Month\",\n",
    "\"One Year\", \"Two Year\"). If you notice that the churn rate varies significantly across these contract types, you can\n",
    "use Target Guided Ordinal Encoding to convert this feature into numerical values.\n",
    "\n",
    "\n",
    "Steps:\n",
    "1.Group by Contract Type:\n",
    "Calculate the mean churn rate for each contract type.\n",
    "\n",
    "Example:\n",
    "\"Month-to-Month\" → 0.45 (45% churn rate)\n",
    "\"One Year\" → 0.20 (20% churn rate)\n",
    "\"Two Year\" → 0.05 (5% churn rate)\n",
    "\n",
    "2.Rank the Contract Types:\n",
    "\n",
    "Rank the categories based on the churn rate in ascending order:\n",
    "\"Two Year\" → 1\n",
    "\"One Year\" → 2\n",
    "\"Month-to-Month\" → 3\n",
    "\n",
    "3.Encode the Contract Types:\n",
    "\n",
    "Assign the rank to each category:\n",
    "\"Two Year\" → 1\n",
    "\"One Year\" → 2\n",
    "\"Month-to-Month\" → 3\n",
    "\n",
    "This encoding creates a numerical representation of the contract type feature, reflecting the relationship with the\n",
    "target variable (churn). It can be particularly useful when the model is sensitive to ordinal relationships or when\n",
    "a linear relationship between the encoded variable and the target is expected.\n",
    "\n",
    "--> When to Use It\n",
    "1.Ordinal Variables: When the categories have a natural order or rank, like education level, customer satisfaction\n",
    "ratings, etc.\n",
    "\n",
    "2.Correlation with Target: When you believe the categories might have a significant impact on the target variable,\n",
    "and encoding them this way will help capture that relationship in the model.\n",
    "\n",
    "3.Improving Model Performance: When basic encoding methods like one-hot encoding do not capture the relationship\n",
    "between the categorical variable and the target effectively, leading to improved model performance when using\n",
    "Target Guided Ordinal Encoding."
   ]
  },
  {
   "cell_type": "markdown",
   "id": "daabd993-a283-472b-b1ad-ad9f49e051d1",
   "metadata": {},
   "source": [
    "# Q3. Define covariance and explain why it is important in statistical analysis. How is covariance calculated?"
   ]
  },
  {
   "cell_type": "code",
   "execution_count": null,
   "id": "c0dc490a-d682-40b0-91aa-a6381e7cdb4b",
   "metadata": {},
   "outputs": [],
   "source": [
    "Covariance: Definition and Importance:\n",
    "Covariance is a measure of how two random variables change together. It indicates the direction of the linear\n",
    "relationship between them. If both variables tend to increase or decrease simultaneously, the covariance will be\n",
    "positive. If one variable increases while the other decreases, the covariance will be negative. A covariance close\n",
    "to zero suggests no linear relationship between the variables.\n",
    "\n",
    "Covariance helps to understand the relationship between two variables, providing insight into how one variable might\n",
    "change in relation to the other. It's an essential concept in various statistical analyses, including portfolio\n",
    "theory, linear regression, and machine learning.\n",
    "\n",
    "\n",
    "--> Importance of Covariance in Statistical Analysis:\n",
    "1.Understanding Relationships: Covariance helps to determine whether and how two variables are related. It's a\n",
    "foundational concept in correlation analysis, which is crucial for understanding relationships in data.\n",
    "\n",
    "2.Financial Applications: In finance, covariance is used to assess how different assets move together, which helps\n",
    "in portfolio optimization. A positive covariance between two assets suggests that they tend to move in the same\n",
    "direction, whereas a negative covariance suggests they move in opposite directions.\n",
    "\n",
    "3.Feature Selection in Machine Learning: Covariance is used to identify redundant features in a dataset. If two\n",
    "features have a high covariance, they might carry similar information, and one of them could potentially be dropped\n",
    "without significant loss of information.\n",
    "\n",
    "4.Dimensionality Reduction: Techniques like Principal Component Analysis (PCA) rely on covariance to find the\n",
    "direction of maximum variance in data, which is essential for reducing dimensionality while retaining important\n",
    "information."
   ]
  },
  {
   "cell_type": "markdown",
   "id": "3e8ef145-b4d2-40eb-a8aa-c4e63ca7bf60",
   "metadata": {},
   "source": [
    "# Q4. For a dataset with the following categorical variables: Color (red, green, blue), Size (small, medium, large), and Material (wood, metal, plastic), perform label encoding using Python's scikit-learn library. Show your code and explain the output."
   ]
  },
  {
   "cell_type": "code",
   "execution_count": 1,
   "id": "b7001fb6-7bdd-46f1-a6a5-e2d8815610b6",
   "metadata": {},
   "outputs": [],
   "source": [
    "import pandas as pd"
   ]
  },
  {
   "cell_type": "code",
   "execution_count": 2,
   "id": "3566e876-e876-45eb-b746-6a83d264c68f",
   "metadata": {},
   "outputs": [],
   "source": [
    "from sklearn.preprocessing import LabelEncoder"
   ]
  },
  {
   "cell_type": "code",
   "execution_count": 7,
   "id": "a8b25d55-3f29-4823-b1e7-e7bddebe0db8",
   "metadata": {},
   "outputs": [],
   "source": [
    "# Sample dataset\n",
    "df = pd.DataFrame({\n",
    "    'Color': ['red', 'green', 'blue'],\n",
    "    'Size': ['small', 'medium', 'large'],\n",
    "    'Material': ['wood', 'metal', 'plastic']\n",
    "})"
   ]
  },
  {
   "cell_type": "code",
   "execution_count": 8,
   "id": "83f14b83-5a6c-4047-a4c4-f510c2ea1b31",
   "metadata": {},
   "outputs": [
    {
     "data": {
      "text/html": [
       "<div>\n",
       "<style scoped>\n",
       "    .dataframe tbody tr th:only-of-type {\n",
       "        vertical-align: middle;\n",
       "    }\n",
       "\n",
       "    .dataframe tbody tr th {\n",
       "        vertical-align: top;\n",
       "    }\n",
       "\n",
       "    .dataframe thead th {\n",
       "        text-align: right;\n",
       "    }\n",
       "</style>\n",
       "<table border=\"1\" class=\"dataframe\">\n",
       "  <thead>\n",
       "    <tr style=\"text-align: right;\">\n",
       "      <th></th>\n",
       "      <th>Color</th>\n",
       "      <th>Size</th>\n",
       "      <th>Material</th>\n",
       "    </tr>\n",
       "  </thead>\n",
       "  <tbody>\n",
       "    <tr>\n",
       "      <th>0</th>\n",
       "      <td>red</td>\n",
       "      <td>small</td>\n",
       "      <td>wood</td>\n",
       "    </tr>\n",
       "    <tr>\n",
       "      <th>1</th>\n",
       "      <td>green</td>\n",
       "      <td>medium</td>\n",
       "      <td>metal</td>\n",
       "    </tr>\n",
       "    <tr>\n",
       "      <th>2</th>\n",
       "      <td>blue</td>\n",
       "      <td>large</td>\n",
       "      <td>plastic</td>\n",
       "    </tr>\n",
       "  </tbody>\n",
       "</table>\n",
       "</div>"
      ],
      "text/plain": [
       "   Color    Size Material\n",
       "0    red   small     wood\n",
       "1  green  medium    metal\n",
       "2   blue   large  plastic"
      ]
     },
     "execution_count": 8,
     "metadata": {},
     "output_type": "execute_result"
    }
   ],
   "source": [
    "df"
   ]
  },
  {
   "cell_type": "code",
   "execution_count": 11,
   "id": "cd9982ac-cdbe-489e-9752-ec67d8de9e74",
   "metadata": {},
   "outputs": [],
   "source": [
    "# Initialize LabelEncoder\n",
    "encoder = LabelEncoder()"
   ]
  },
  {
   "cell_type": "code",
   "execution_count": 12,
   "id": "05dbf710-aa2a-4e51-9579-2fd9fd40d5b1",
   "metadata": {},
   "outputs": [],
   "source": [
    "# Perform label encoding for each categorical column\n",
    "df['Color_encoded'] = encoder.fit_transform(df['Color'])\n",
    "df['Size_encoded'] = encoder.fit_transform(df['Size'])\n",
    "df['Material_encoded'] = encoder.fit_transform(df['Material'])"
   ]
  },
  {
   "cell_type": "code",
   "execution_count": 13,
   "id": "abe287dc-5da5-46d2-b319-6b03ff0fe623",
   "metadata": {},
   "outputs": [
    {
     "data": {
      "text/html": [
       "<div>\n",
       "<style scoped>\n",
       "    .dataframe tbody tr th:only-of-type {\n",
       "        vertical-align: middle;\n",
       "    }\n",
       "\n",
       "    .dataframe tbody tr th {\n",
       "        vertical-align: top;\n",
       "    }\n",
       "\n",
       "    .dataframe thead th {\n",
       "        text-align: right;\n",
       "    }\n",
       "</style>\n",
       "<table border=\"1\" class=\"dataframe\">\n",
       "  <thead>\n",
       "    <tr style=\"text-align: right;\">\n",
       "      <th></th>\n",
       "      <th>Color</th>\n",
       "      <th>Size</th>\n",
       "      <th>Material</th>\n",
       "      <th>Color_encoded</th>\n",
       "      <th>Size_encoded</th>\n",
       "      <th>Material_encoded</th>\n",
       "    </tr>\n",
       "  </thead>\n",
       "  <tbody>\n",
       "    <tr>\n",
       "      <th>0</th>\n",
       "      <td>red</td>\n",
       "      <td>small</td>\n",
       "      <td>wood</td>\n",
       "      <td>2</td>\n",
       "      <td>2</td>\n",
       "      <td>2</td>\n",
       "    </tr>\n",
       "    <tr>\n",
       "      <th>1</th>\n",
       "      <td>green</td>\n",
       "      <td>medium</td>\n",
       "      <td>metal</td>\n",
       "      <td>1</td>\n",
       "      <td>1</td>\n",
       "      <td>0</td>\n",
       "    </tr>\n",
       "    <tr>\n",
       "      <th>2</th>\n",
       "      <td>blue</td>\n",
       "      <td>large</td>\n",
       "      <td>plastic</td>\n",
       "      <td>0</td>\n",
       "      <td>0</td>\n",
       "      <td>1</td>\n",
       "    </tr>\n",
       "  </tbody>\n",
       "</table>\n",
       "</div>"
      ],
      "text/plain": [
       "   Color    Size Material  Color_encoded  Size_encoded  Material_encoded\n",
       "0    red   small     wood              2             2                 2\n",
       "1  green  medium    metal              1             1                 0\n",
       "2   blue   large  plastic              0             0                 1"
      ]
     },
     "execution_count": 13,
     "metadata": {},
     "output_type": "execute_result"
    }
   ],
   "source": [
    "df"
   ]
  },
  {
   "cell_type": "markdown",
   "id": "22a365da-de1d-42a7-b042-2fcf433a1747",
   "metadata": {},
   "source": [
    "# Q5. Calculate the covariance matrix for the following variables in a dataset: Age, Income, and Education level. Interpret the results."
   ]
  },
  {
   "cell_type": "code",
   "execution_count": null,
   "id": "6b88af3c-386d-48aa-ada3-0437fddf6e5a",
   "metadata": {},
   "outputs": [],
   "source": [
    "Covariance Matrix Calculation for Age, Income, and Education Level:\n",
    "\n",
    "To calculate the covariance matrix for variables like Age, Income, and Education level, we need to:\n",
    "\n",
    "1.Gather the data for these variables.\n",
    "2.Compute the covariance between each pair of variables.\n",
    "3.Organize the covariance values into a matrix format.\n",
    "\n",
    "Steps\n",
    "Sample Data: We'll use a small dataset for demonstration purposes.\n",
    "\n",
    "Person\tAge\tIncome ($)\tEducation Level (Years)\n",
    "A\t     25\t  50000\t             16\n",
    "B\t     30\t  60000\t             14\n",
    "C\t     35\t  70000\t             18\n",
    "D\t     40\t  80000\t             16\n",
    "E\t     45\t  90000\t             20"
   ]
  },
  {
   "cell_type": "code",
   "execution_count": 14,
   "id": "810bd452-8109-461d-94ca-d0be6bfc4a6f",
   "metadata": {},
   "outputs": [],
   "source": [
    "import pandas as pd\n",
    "import numpy as np"
   ]
  },
  {
   "cell_type": "code",
   "execution_count": 15,
   "id": "6b9c4d85-d476-47eb-841e-bd5815983021",
   "metadata": {},
   "outputs": [],
   "source": [
    "# Sample data\n",
    "data = {\n",
    "    'Age': [25, 30, 35, 40, 45],\n",
    "    'Income': [50000, 60000, 70000, 80000, 90000],\n",
    "    'Education_Level': [16, 14, 18, 16, 20]\n",
    "}"
   ]
  },
  {
   "cell_type": "code",
   "execution_count": 16,
   "id": "cfea905f-5b26-484d-836a-04a50a1997f5",
   "metadata": {},
   "outputs": [],
   "source": [
    "# Create a DataFrame\n",
    "df = pd.DataFrame(data)"
   ]
  },
  {
   "cell_type": "code",
   "execution_count": 17,
   "id": "5e534b77-88f2-4e34-8434-0020b07d2308",
   "metadata": {},
   "outputs": [
    {
     "data": {
      "text/html": [
       "<div>\n",
       "<style scoped>\n",
       "    .dataframe tbody tr th:only-of-type {\n",
       "        vertical-align: middle;\n",
       "    }\n",
       "\n",
       "    .dataframe tbody tr th {\n",
       "        vertical-align: top;\n",
       "    }\n",
       "\n",
       "    .dataframe thead th {\n",
       "        text-align: right;\n",
       "    }\n",
       "</style>\n",
       "<table border=\"1\" class=\"dataframe\">\n",
       "  <thead>\n",
       "    <tr style=\"text-align: right;\">\n",
       "      <th></th>\n",
       "      <th>Age</th>\n",
       "      <th>Income</th>\n",
       "      <th>Education_Level</th>\n",
       "    </tr>\n",
       "  </thead>\n",
       "  <tbody>\n",
       "    <tr>\n",
       "      <th>0</th>\n",
       "      <td>25</td>\n",
       "      <td>50000</td>\n",
       "      <td>16</td>\n",
       "    </tr>\n",
       "    <tr>\n",
       "      <th>1</th>\n",
       "      <td>30</td>\n",
       "      <td>60000</td>\n",
       "      <td>14</td>\n",
       "    </tr>\n",
       "    <tr>\n",
       "      <th>2</th>\n",
       "      <td>35</td>\n",
       "      <td>70000</td>\n",
       "      <td>18</td>\n",
       "    </tr>\n",
       "    <tr>\n",
       "      <th>3</th>\n",
       "      <td>40</td>\n",
       "      <td>80000</td>\n",
       "      <td>16</td>\n",
       "    </tr>\n",
       "    <tr>\n",
       "      <th>4</th>\n",
       "      <td>45</td>\n",
       "      <td>90000</td>\n",
       "      <td>20</td>\n",
       "    </tr>\n",
       "  </tbody>\n",
       "</table>\n",
       "</div>"
      ],
      "text/plain": [
       "   Age  Income  Education_Level\n",
       "0   25   50000               16\n",
       "1   30   60000               14\n",
       "2   35   70000               18\n",
       "3   40   80000               16\n",
       "4   45   90000               20"
      ]
     },
     "execution_count": 17,
     "metadata": {},
     "output_type": "execute_result"
    }
   ],
   "source": [
    "df"
   ]
  },
  {
   "cell_type": "code",
   "execution_count": 18,
   "id": "ba894d7c-d05f-4530-beb8-096fda9dc5c0",
   "metadata": {},
   "outputs": [],
   "source": [
    "# Calculate the covariance matrix\n",
    "cov_matrix = df.cov()"
   ]
  },
  {
   "cell_type": "code",
   "execution_count": 23,
   "id": "1c23e962-48dd-4a98-aab3-675d92408af8",
   "metadata": {},
   "outputs": [
    {
     "data": {
      "text/html": [
       "<div>\n",
       "<style scoped>\n",
       "    .dataframe tbody tr th:only-of-type {\n",
       "        vertical-align: middle;\n",
       "    }\n",
       "\n",
       "    .dataframe tbody tr th {\n",
       "        vertical-align: top;\n",
       "    }\n",
       "\n",
       "    .dataframe thead th {\n",
       "        text-align: right;\n",
       "    }\n",
       "</style>\n",
       "<table border=\"1\" class=\"dataframe\">\n",
       "  <thead>\n",
       "    <tr style=\"text-align: right;\">\n",
       "      <th></th>\n",
       "      <th>Age</th>\n",
       "      <th>Income</th>\n",
       "      <th>Education_Level</th>\n",
       "    </tr>\n",
       "  </thead>\n",
       "  <tbody>\n",
       "    <tr>\n",
       "      <th>Age</th>\n",
       "      <td>62.5</td>\n",
       "      <td>125000.0</td>\n",
       "      <td>12.5</td>\n",
       "    </tr>\n",
       "    <tr>\n",
       "      <th>Income</th>\n",
       "      <td>125000.0</td>\n",
       "      <td>250000000.0</td>\n",
       "      <td>25000.0</td>\n",
       "    </tr>\n",
       "    <tr>\n",
       "      <th>Education_Level</th>\n",
       "      <td>12.5</td>\n",
       "      <td>25000.0</td>\n",
       "      <td>5.2</td>\n",
       "    </tr>\n",
       "  </tbody>\n",
       "</table>\n",
       "</div>"
      ],
      "text/plain": [
       "                      Age       Income  Education_Level\n",
       "Age                  62.5     125000.0             12.5\n",
       "Income           125000.0  250000000.0          25000.0\n",
       "Education_Level      12.5      25000.0              5.2"
      ]
     },
     "execution_count": 23,
     "metadata": {},
     "output_type": "execute_result"
    }
   ],
   "source": [
    "# Display the covariance matrix\n",
    "cov_matrix"
   ]
  },
  {
   "cell_type": "markdown",
   "id": "614732ff-3c26-4103-b34f-3413507c7d14",
   "metadata": {},
   "source": [
    "# Q6. You are working on a machine learning project with a dataset containing several categorical variables, including \"Gender\" (Male/Female), \"Education Level\" (High School/Bachelor's/Master's/PhD), and \"Employment Status\" (Unemployed/Part-Time/Full-Time). Which encoding method would you use for each variable, and why?"
   ]
  },
  {
   "cell_type": "code",
   "execution_count": null,
   "id": "a1acd015-efe8-473d-82a5-be7f89b4fb1c",
   "metadata": {},
   "outputs": [],
   "source": [
    "When working with categorical variables in a machine learning project, the choice of encoding method depends on the\n",
    "nature of the categorical data and the type of model being used. Let's discuss the best encoding methods for the\n",
    "given variables: \"Gender,\" \"Education Level,\" and \"Employment Status.\"\n",
    "\n",
    "1.Gender (Male/Female)\n",
    "Recommended Encoding Method:\n",
    "\n",
    "Binary Encoding or Label Encoding\n",
    "Reason:\n",
    "(i)Binary Encoding: Since \"Gender\" has only two categories (Male and Female), binary encoding is a simple and\n",
    "efficient approach. You can represent one category as 0 and the other as 1. This avoids adding unnecessary\n",
    "complexity to the dataset.\n",
    "\n",
    "(ii)Label Encoding: Label encoding can also be used, where Male could be encoded as 0 and Female as 1. Since there\n",
    "is no ordinal relationship (one gender is not greater than the other), either encoding method is appropriate.\n",
    "\n",
    "Example:\n",
    "Male → 0\n",
    "Female → 1\n",
    "\n",
    "\n",
    "2.Education Level (High School, Bachelor's, Master's, PhD)\n",
    "Recommended Encoding Method:\n",
    "\n",
    "Ordinal Encoding or Target Guided Ordinal Encoding\n",
    "Reason:\n",
    "(i)Ordinal Encoding: The \"Education Level\" variable has an inherent order or hierarchy (High School < Bachelor's <\n",
    "Master's < PhD). Ordinal encoding is suitable for this type of variable because it preserves the order of the\n",
    "categories by mapping them to integers. For example, High School could be encoded as 1, Bachelor's as 2, Master's\n",
    "as 3, and PhD as 4.\n",
    "\n",
    "(ii)Target Guided Ordinal Encoding: If there is a significant correlation between education level and the target\n",
    "variable (e.g., salary or job position), you could use Target Guided Ordinal Encoding to order the categories\n",
    "based on their impact on the target variable.\n",
    "\n",
    "Example of Ordinal Encoding:\n",
    "\n",
    "High School → 1\n",
    "Bachelor's → 2\n",
    "Master's → 3\n",
    "PhD → 4\n",
    "\n",
    "\n",
    "3.Employment Status (Unemployed, Part-Time, Full-Time)\n",
    "Recommended Encoding Method:\n",
    "\n",
    "One-Hot Encoding\n",
    "Reason:\n",
    "(i)One-Hot Encoding: \"Employment Status\" has three categories that do not have a clear ordinal relationship. For\n",
    "instance, \"Unemployed\" is not necessarily less than or greater than \"Part-Time\" or \"Full-Time.\" In such cases,\n",
    "one-hot encoding is preferred because it treats each category as a separate binary feature. This avoids imposing\n",
    "any unintended order on the categories and ensures that the model doesn't interpret one category as being \"greater\"\n",
    "than another.\n",
    "\n",
    "(ii)Avoid Label Encoding: Label encoding would assign integers to the categories (e.g., Unemployed → 0, Part-Time →1,\n",
    "Full-Time → 2), but this could mislead certain models into thinking there is an ordinal relationship, which isn't\n",
    "the case here.\n",
    "\n",
    "Example of One-Hot Encoding:\n",
    "\n",
    "Unemployed → [1, 0, 0]\n",
    "Part-Time → [0, 1, 0]\n",
    "Full-Time → [0, 0, 1]"
   ]
  },
  {
   "cell_type": "markdown",
   "id": "8ea5bc1c-c9ce-4ff9-a244-666b73a0e23f",
   "metadata": {},
   "source": [
    "# Q7. You are analyzing a dataset with two continuous variables, \"Temperature\" and \"Humidity\", and two categorical variables, \"Weather Condition\" (Sunny/Cloudy/Rainy) and \"Wind Direction\" (North/South/ East/West). Calculate the covariance between each pair of variables and interpret the results."
   ]
  },
  {
   "cell_type": "code",
   "execution_count": null,
   "id": "0835da4b-ec2a-41f0-a04d-d0b255405825",
   "metadata": {},
   "outputs": [],
   "source": [
    "To analyze the covariance between the variables \"Temperature,\" \"Humidity,\" \"Weather Condition,\" and \"Wind Direction,\"\n",
    "we need to first understand that covariance is only defined between pairs of continuous variables. Covariance\n",
    "measures the degree to which two continuous variables change together. For categorical variables, covariance does\n",
    "not directly apply.\n",
    "\n",
    "Here’s how we can approach this analysis:\n",
    "\n",
    "Step 1: Data Preparation\n",
    "We’ll assume a small dataset for illustration:\n",
    "\n",
    "Temperature (°C)\tHumidity (%)\tWeather Condition\tWind Direction\n",
    "     25\t                 80\t              Sunny\t            North\n",
    "     30\t                 70\t              Cloudy\t        South\n",
    "     20\t                 90\t              Rainy\t            East\n",
    "     28\t                 75\t              Sunny\t            West\n",
    "     22\t                 85\t              Cloudy\t        North\n",
    "\n",
    "Step 2: Covariance Between Continuous Variables\n",
    "Since we have two continuous variables (\"Temperature\" and \"Humidity\"), we can calculate the covariance between them."
   ]
  },
  {
   "cell_type": "markdown",
   "id": "46f4d717-a652-4efc-947e-cac63745d913",
   "metadata": {},
   "source": [
    "# Covariance calculation using Python"
   ]
  },
  {
   "cell_type": "code",
   "execution_count": 24,
   "id": "e057f032-ff3b-4c22-bb3a-64f1e06a786b",
   "metadata": {},
   "outputs": [],
   "source": [
    "import pandas as pd"
   ]
  },
  {
   "cell_type": "code",
   "execution_count": 40,
   "id": "356bae89-84b6-4540-a1d3-22d529458a8a",
   "metadata": {},
   "outputs": [],
   "source": [
    "# Sample data\n",
    "data = {\n",
    "    'Temperature': [25, 30, 20, 28, 22],\n",
    "    'Humidity': [80, 70, 90, 75, 85],\n",
    "}"
   ]
  },
  {
   "cell_type": "code",
   "execution_count": 41,
   "id": "5875d4ac-5990-4368-b150-5d3a66f0992d",
   "metadata": {},
   "outputs": [],
   "source": [
    "# Create a DataFrame\n",
    "df = pd.DataFrame(data)"
   ]
  },
  {
   "cell_type": "code",
   "execution_count": 42,
   "id": "698440b0-e405-4495-b7d8-de59dcf8cf68",
   "metadata": {},
   "outputs": [
    {
     "data": {
      "text/html": [
       "<div>\n",
       "<style scoped>\n",
       "    .dataframe tbody tr th:only-of-type {\n",
       "        vertical-align: middle;\n",
       "    }\n",
       "\n",
       "    .dataframe tbody tr th {\n",
       "        vertical-align: top;\n",
       "    }\n",
       "\n",
       "    .dataframe thead th {\n",
       "        text-align: right;\n",
       "    }\n",
       "</style>\n",
       "<table border=\"1\" class=\"dataframe\">\n",
       "  <thead>\n",
       "    <tr style=\"text-align: right;\">\n",
       "      <th></th>\n",
       "      <th>Temperature</th>\n",
       "      <th>Humidity</th>\n",
       "    </tr>\n",
       "  </thead>\n",
       "  <tbody>\n",
       "    <tr>\n",
       "      <th>0</th>\n",
       "      <td>25</td>\n",
       "      <td>80</td>\n",
       "    </tr>\n",
       "    <tr>\n",
       "      <th>1</th>\n",
       "      <td>30</td>\n",
       "      <td>70</td>\n",
       "    </tr>\n",
       "    <tr>\n",
       "      <th>2</th>\n",
       "      <td>20</td>\n",
       "      <td>90</td>\n",
       "    </tr>\n",
       "    <tr>\n",
       "      <th>3</th>\n",
       "      <td>28</td>\n",
       "      <td>75</td>\n",
       "    </tr>\n",
       "    <tr>\n",
       "      <th>4</th>\n",
       "      <td>22</td>\n",
       "      <td>85</td>\n",
       "    </tr>\n",
       "  </tbody>\n",
       "</table>\n",
       "</div>"
      ],
      "text/plain": [
       "   Temperature  Humidity\n",
       "0           25        80\n",
       "1           30        70\n",
       "2           20        90\n",
       "3           28        75\n",
       "4           22        85"
      ]
     },
     "execution_count": 42,
     "metadata": {},
     "output_type": "execute_result"
    }
   ],
   "source": [
    "df"
   ]
  },
  {
   "cell_type": "code",
   "execution_count": 45,
   "id": "01b5af13-4149-4004-a31f-08a3faf51c79",
   "metadata": {},
   "outputs": [],
   "source": [
    "# Calculate the covariance matrix\n",
    "cov_matrix = df.cov()"
   ]
  },
  {
   "cell_type": "code",
   "execution_count": 46,
   "id": "1de06401-c726-4da7-bba8-89ac3518a7f9",
   "metadata": {},
   "outputs": [
    {
     "data": {
      "text/html": [
       "<div>\n",
       "<style scoped>\n",
       "    .dataframe tbody tr th:only-of-type {\n",
       "        vertical-align: middle;\n",
       "    }\n",
       "\n",
       "    .dataframe tbody tr th {\n",
       "        vertical-align: top;\n",
       "    }\n",
       "\n",
       "    .dataframe thead th {\n",
       "        text-align: right;\n",
       "    }\n",
       "</style>\n",
       "<table border=\"1\" class=\"dataframe\">\n",
       "  <thead>\n",
       "    <tr style=\"text-align: right;\">\n",
       "      <th></th>\n",
       "      <th>Temperature</th>\n",
       "      <th>Humidity</th>\n",
       "    </tr>\n",
       "  </thead>\n",
       "  <tbody>\n",
       "    <tr>\n",
       "      <th>Temperature</th>\n",
       "      <td>17.0</td>\n",
       "      <td>-32.5</td>\n",
       "    </tr>\n",
       "    <tr>\n",
       "      <th>Humidity</th>\n",
       "      <td>-32.5</td>\n",
       "      <td>62.5</td>\n",
       "    </tr>\n",
       "  </tbody>\n",
       "</table>\n",
       "</div>"
      ],
      "text/plain": [
       "             Temperature  Humidity\n",
       "Temperature         17.0     -32.5\n",
       "Humidity           -32.5      62.5"
      ]
     },
     "execution_count": 46,
     "metadata": {},
     "output_type": "execute_result"
    }
   ],
   "source": [
    "cov_matrix"
   ]
  },
  {
   "cell_type": "code",
   "execution_count": null,
   "id": "c37f0319-12f0-486b-960f-747248f0bdb3",
   "metadata": {},
   "outputs": [],
   "source": [
    "Interpretation:\n",
    "Temperature and Humidity Covariance:\n",
    "\n",
    "Covariance Value (-12.5): The covariance between \"Temperature\" and \"Humidity\" is -12.5. This negative value\n",
    "indicates that as the temperature increases, humidity tends to decrease in this dataset. However, the strength of\n",
    "this relationship cannot be determined just by the magnitude of covariance; we would need to look at the correlation\n",
    "coefficient for a more normalized measure.\n",
    "\n",
    "Variance of Temperature (13.50): The variance of \"Temperature\" is 13.50, indicating how much the temperature values\n",
    "deviate from the mean temperature.\n",
    "\n",
    "Variance of Humidity (70.0): The variance of \"Humidity\" is 70.0, showing how much the humidity values deviate from\n",
    "the mean humidity."
   ]
  },
  {
   "cell_type": "code",
   "execution_count": null,
   "id": "7d52d87e-0909-448e-9f49-cdb74060f482",
   "metadata": {},
   "outputs": [],
   "source": [
    "Step 3: Handling Categorical Variables\n",
    "Since covariance is not directly applicable to categorical variables, you can consider encoding the categorical\n",
    "variables first (e.g., one-hot encoding or label encoding) and then calculating correlation coefficients with\n",
    "continuous variables. However, such correlations can sometimes be misleading or not meaningful.\n",
    "\n",
    "Example of Encoding and Correlation:\n",
    "For illustration, if we one-hot encode \"Weather Condition\" and \"Wind Direction,\" we might create new columns like\n",
    "Sunny, Cloudy, Rainy, North, South, East, West. Then, you can compute the correlation (not covariance) between these\n",
    "encoded variables and the continuous variables."
   ]
  },
  {
   "cell_type": "code",
   "execution_count": 47,
   "id": "e7bab289-f133-4667-9514-ebbc857d8bef",
   "metadata": {},
   "outputs": [],
   "source": [
    "import pandas as pd\n",
    "import numpy as np"
   ]
  },
  {
   "cell_type": "code",
   "execution_count": 48,
   "id": "3c294773-1aa9-4fc9-b810-2703b88ef13b",
   "metadata": {},
   "outputs": [],
   "source": [
    "from sklearn.preprocessing import LabelEncoder"
   ]
  },
  {
   "cell_type": "code",
   "execution_count": 49,
   "id": "60380810-d17b-449d-97da-924a32c4f674",
   "metadata": {},
   "outputs": [],
   "source": [
    "# Sample data\n",
    "data = {\n",
    "    'Weather Condition': ['Sunny', 'Cloudy', 'Rainy', 'Sunny', 'Cloudy'],\n",
    "    'Wind Direction': ['North', 'South', 'East', 'West', 'North']\n",
    "}"
   ]
  },
  {
   "cell_type": "code",
   "execution_count": 50,
   "id": "dd810206-3259-4d52-a3be-6b1a958359f3",
   "metadata": {},
   "outputs": [],
   "source": [
    "# Create a DataFrame\n",
    "df = pd.DataFrame(data)"
   ]
  },
  {
   "cell_type": "code",
   "execution_count": 51,
   "id": "90d5d836-afa0-4432-a542-815efd19525d",
   "metadata": {},
   "outputs": [],
   "source": [
    "# Initialize LabelEncoder\n",
    "label_encoder = LabelEncoder()"
   ]
  },
  {
   "cell_type": "code",
   "execution_count": 52,
   "id": "5e360460-ea22-4672-b1e4-e38c38ac081f",
   "metadata": {},
   "outputs": [],
   "source": [
    "# Label encode the categorical variables\n",
    "df['Weather Condition Encoded'] = label_encoder.fit_transform(df['Weather Condition'])\n",
    "df['Wind Direction Encoded'] = label_encoder.fit_transform(df['Wind Direction'])"
   ]
  },
  {
   "cell_type": "code",
   "execution_count": 53,
   "id": "ec0989dc-8e37-4956-84a0-cbe7a290220e",
   "metadata": {},
   "outputs": [],
   "source": [
    "# Calculate the covariance matrix for the encoded columns\n",
    "cov_matrix = df[['Weather Condition Encoded', 'Wind Direction Encoded']].cov()"
   ]
  },
  {
   "cell_type": "code",
   "execution_count": 54,
   "id": "dab7072f-4870-4e35-a55f-68ecf9b8c94c",
   "metadata": {},
   "outputs": [
    {
     "name": "stdout",
     "output_type": "stream",
     "text": [
      "                           Weather Condition Encoded  Wind Direction Encoded\n",
      "Weather Condition Encoded                       1.00                    0.25\n",
      "Wind Direction Encoded                          0.25                    1.30\n"
     ]
    }
   ],
   "source": [
    "# Display the covariance matrix\n",
    "print(cov_matrix)"
   ]
  },
  {
   "cell_type": "code",
   "execution_count": null,
   "id": "a37d22b7-2f43-4e92-98b0-ba5be3ac7e62",
   "metadata": {},
   "outputs": [],
   "source": []
  },
  {
   "cell_type": "code",
   "execution_count": null,
   "id": "7ad1b156-b46e-4089-a057-2e5f571749a8",
   "metadata": {},
   "outputs": [],
   "source": []
  }
 ],
 "metadata": {
  "kernelspec": {
   "display_name": "Python 3 (ipykernel)",
   "language": "python",
   "name": "python3"
  },
  "language_info": {
   "codemirror_mode": {
    "name": "ipython",
    "version": 3
   },
   "file_extension": ".py",
   "mimetype": "text/x-python",
   "name": "python",
   "nbconvert_exporter": "python",
   "pygments_lexer": "ipython3",
   "version": "3.12.4"
  }
 },
 "nbformat": 4,
 "nbformat_minor": 5
}
